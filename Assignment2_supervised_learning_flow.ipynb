{
 "cells": [
  {
   "cell_type": "markdown",
   "id": "ec202ada",
   "metadata": {},
   "source": [
    "# Assignment2 - Supervised Learning flow"
   ]
  },
  {
   "cell_type": "markdown",
   "id": "b06a2810",
   "metadata": {},
   "source": [
    "# Part 1 - Student details:\n",
    "* Please write the First Name and last 4 digits of the i.d. for each student. For example:\n",
    "<pre>Israel 9812</pre>"
   ]
  },
  {
   "cell_type": "code",
   "execution_count": 1,
   "id": "ca16486b",
   "metadata": {},
   "outputs": [],
   "source": [
    "# student 1: Hagar 1536\n",
    "# student 2:"
   ]
  },
  {
   "cell_type": "markdown",
   "id": "df67c2ee-87c8-499c-a04f-1853c332f51d",
   "metadata": {},
   "source": [
    "## Part 2 - Initial Preparations \n",
    "You could add as many code cells as needed"
   ]
  },
  {
   "cell_type": "code",
   "execution_count": 2,
   "id": "e23beb00-858f-4596-b666-63e105e99093",
   "metadata": {},
   "outputs": [],
   "source": [
    "import numpy as np\n",
    "import pandas as pd\n",
    "import matplotlib.pyplot as plt\n",
    "import sklearn\n",
    "import seaborn as sns\n",
    "import warnings\n",
    "\n",
    "warnings.simplefilter(\"ignore\")"
   ]
  },
  {
   "cell_type": "code",
   "execution_count": 3,
   "id": "b29b3454-b568-4614-8017-f15b3c59fc55",
   "metadata": {},
   "outputs": [
    {
     "data": {
      "text/html": [
       "<div>\n",
       "<style scoped>\n",
       "    .dataframe tbody tr th:only-of-type {\n",
       "        vertical-align: middle;\n",
       "    }\n",
       "\n",
       "    .dataframe tbody tr th {\n",
       "        vertical-align: top;\n",
       "    }\n",
       "\n",
       "    .dataframe thead th {\n",
       "        text-align: right;\n",
       "    }\n",
       "</style>\n",
       "<table border=\"1\" class=\"dataframe\">\n",
       "  <thead>\n",
       "    <tr style=\"text-align: right;\">\n",
       "      <th></th>\n",
       "      <th>Pclass</th>\n",
       "      <th>Sex</th>\n",
       "      <th>Age</th>\n",
       "      <th>SibSp</th>\n",
       "      <th>Parch</th>\n",
       "      <th>Fare</th>\n",
       "      <th>Embarked</th>\n",
       "      <th>Survived</th>\n",
       "    </tr>\n",
       "  </thead>\n",
       "  <tbody>\n",
       "    <tr>\n",
       "      <th>0</th>\n",
       "      <td>1</td>\n",
       "      <td>0</td>\n",
       "      <td>54.0</td>\n",
       "      <td>1</td>\n",
       "      <td>0</td>\n",
       "      <td>78.2667</td>\n",
       "      <td>1</td>\n",
       "      <td>1</td>\n",
       "    </tr>\n",
       "    <tr>\n",
       "      <th>1</th>\n",
       "      <td>2</td>\n",
       "      <td>0</td>\n",
       "      <td>45.0</td>\n",
       "      <td>0</td>\n",
       "      <td>0</td>\n",
       "      <td>13.5000</td>\n",
       "      <td>0</td>\n",
       "      <td>1</td>\n",
       "    </tr>\n",
       "    <tr>\n",
       "      <th>2</th>\n",
       "      <td>3</td>\n",
       "      <td>1</td>\n",
       "      <td>20.0</td>\n",
       "      <td>0</td>\n",
       "      <td>0</td>\n",
       "      <td>9.5000</td>\n",
       "      <td>0</td>\n",
       "      <td>0</td>\n",
       "    </tr>\n",
       "    <tr>\n",
       "      <th>3</th>\n",
       "      <td>3</td>\n",
       "      <td>1</td>\n",
       "      <td>36.0</td>\n",
       "      <td>0</td>\n",
       "      <td>0</td>\n",
       "      <td>7.8958</td>\n",
       "      <td>0</td>\n",
       "      <td>0</td>\n",
       "    </tr>\n",
       "    <tr>\n",
       "      <th>4</th>\n",
       "      <td>3</td>\n",
       "      <td>1</td>\n",
       "      <td>22.0</td>\n",
       "      <td>0</td>\n",
       "      <td>0</td>\n",
       "      <td>8.0500</td>\n",
       "      <td>0</td>\n",
       "      <td>0</td>\n",
       "    </tr>\n",
       "  </tbody>\n",
       "</table>\n",
       "</div>"
      ],
      "text/plain": [
       "   Pclass  Sex   Age  SibSp  Parch     Fare  Embarked  Survived\n",
       "0       1    0  54.0      1      0  78.2667         1         1\n",
       "1       2    0  45.0      0      0  13.5000         0         1\n",
       "2       3    1  20.0      0      0   9.5000         0         0\n",
       "3       3    1  36.0      0      0   7.8958         0         0\n",
       "4       3    1  22.0      0      0   8.0500         0         0"
      ]
     },
     "execution_count": 3,
     "metadata": {},
     "output_type": "execute_result"
    }
   ],
   "source": [
    "trainset = pd.read_csv('titanic_train.csv')\n",
    "trainset.head()"
   ]
  },
  {
   "cell_type": "code",
   "execution_count": 4,
   "id": "4b47fe56-d611-4b28-be92-673db4d56400",
   "metadata": {},
   "outputs": [
    {
     "data": {
      "text/html": [
       "<div>\n",
       "<style scoped>\n",
       "    .dataframe tbody tr th:only-of-type {\n",
       "        vertical-align: middle;\n",
       "    }\n",
       "\n",
       "    .dataframe tbody tr th {\n",
       "        vertical-align: top;\n",
       "    }\n",
       "\n",
       "    .dataframe thead th {\n",
       "        text-align: right;\n",
       "    }\n",
       "</style>\n",
       "<table border=\"1\" class=\"dataframe\">\n",
       "  <thead>\n",
       "    <tr style=\"text-align: right;\">\n",
       "      <th></th>\n",
       "      <th>Pclass</th>\n",
       "      <th>Sex</th>\n",
       "      <th>Age</th>\n",
       "      <th>SibSp</th>\n",
       "      <th>Parch</th>\n",
       "      <th>Fare</th>\n",
       "      <th>Embarked</th>\n",
       "      <th>Survived</th>\n",
       "    </tr>\n",
       "  </thead>\n",
       "  <tbody>\n",
       "    <tr>\n",
       "      <th>0</th>\n",
       "      <td>3</td>\n",
       "      <td>1</td>\n",
       "      <td>35.000000</td>\n",
       "      <td>0</td>\n",
       "      <td>0</td>\n",
       "      <td>7.0500</td>\n",
       "      <td>0</td>\n",
       "      <td>0</td>\n",
       "    </tr>\n",
       "    <tr>\n",
       "      <th>1</th>\n",
       "      <td>3</td>\n",
       "      <td>1</td>\n",
       "      <td>30.000000</td>\n",
       "      <td>0</td>\n",
       "      <td>0</td>\n",
       "      <td>7.2500</td>\n",
       "      <td>0</td>\n",
       "      <td>0</td>\n",
       "    </tr>\n",
       "    <tr>\n",
       "      <th>2</th>\n",
       "      <td>3</td>\n",
       "      <td>1</td>\n",
       "      <td>29.699118</td>\n",
       "      <td>0</td>\n",
       "      <td>0</td>\n",
       "      <td>14.5000</td>\n",
       "      <td>0</td>\n",
       "      <td>0</td>\n",
       "    </tr>\n",
       "    <tr>\n",
       "      <th>3</th>\n",
       "      <td>3</td>\n",
       "      <td>0</td>\n",
       "      <td>21.000000</td>\n",
       "      <td>0</td>\n",
       "      <td>0</td>\n",
       "      <td>7.7500</td>\n",
       "      <td>2</td>\n",
       "      <td>0</td>\n",
       "    </tr>\n",
       "    <tr>\n",
       "      <th>4</th>\n",
       "      <td>3</td>\n",
       "      <td>1</td>\n",
       "      <td>32.000000</td>\n",
       "      <td>0</td>\n",
       "      <td>0</td>\n",
       "      <td>56.4958</td>\n",
       "      <td>0</td>\n",
       "      <td>1</td>\n",
       "    </tr>\n",
       "  </tbody>\n",
       "</table>\n",
       "</div>"
      ],
      "text/plain": [
       "   Pclass  Sex        Age  SibSp  Parch     Fare  Embarked  Survived\n",
       "0       3    1  35.000000      0      0   7.0500         0         0\n",
       "1       3    1  30.000000      0      0   7.2500         0         0\n",
       "2       3    1  29.699118      0      0  14.5000         0         0\n",
       "3       3    0  21.000000      0      0   7.7500         2         0\n",
       "4       3    1  32.000000      0      0  56.4958         0         1"
      ]
     },
     "execution_count": 4,
     "metadata": {},
     "output_type": "execute_result"
    }
   ],
   "source": [
    "testset = pd.read_csv('titanic_test.csv')\n",
    "testset.head()"
   ]
  },
  {
   "cell_type": "markdown",
   "id": "342bfbbf-4b33-4f88-90eb-5a2f65b93e18",
   "metadata": {},
   "source": [
    "### Survival rate by class and by sex:"
   ]
  },
  {
   "cell_type": "code",
   "execution_count": 5,
   "id": "53e27610-b640-4db0-80c9-789b5f5fae58",
   "metadata": {},
   "outputs": [
    {
     "data": {
      "image/png": "[encoded data removed]",
      "text/plain": [
       "<Figure size 1000x600 with 1 Axes>"
      ]
     },
     "metadata": {},
     "output_type": "display_data"
    },
    {
     "data": {
      "image/png": "[encoded data removed]",
      "text/plain": [
       "<Figure size 1000x600 with 1 Axes>"
      ]
     },
     "metadata": {},
     "output_type": "display_data"
    }
   ],
   "source": [
    "plt.figure(figsize=(10, 6))\n",
    "trainset_copy=trainset.copy()\n",
    "trainset_copy['Pclass'] = trainset_copy['Pclass'].replace({1: 'First', 2: 'Second',3:'Third'})\n",
    "sns.barplot(x='Pclass', y='Survived', data=trainset_copy)\n",
    "plt.title('Survival Rate by Class')\n",
    "plt.show()\n",
    "\n",
    "trainset_copy['Sex'] = trainset_copy['Sex'].replace({0: 'Female', 1: 'Male'})\n",
    "plt.figure(figsize=(10, 6))\n",
    "sns.barplot(x='Sex',y='Survived',  data=trainset_copy)\n",
    "plt.title('Survival Rate by Sex')\n",
    "plt.show()"
   ]
  },
  {
   "cell_type": "markdown",
   "id": "7244ec65-342e-4519-ba2d-8edffdb2a5e0",
   "metadata": {},
   "source": [
    "### Age Distribution by Class:\n",
    "You can see that there are many outliers in the third class."
   ]
  },
  {
   "cell_type": "code",
   "execution_count": 6,
   "id": "ca4aaa0b-561b-42aa-bdf0-44207a8d2280",
   "metadata": {},
   "outputs": [
    {
     "data": {
      "image/png": "[encoded data removed]",
      "text/plain": [
       "<Figure size 1000x600 with 1 Axes>"
      ]
     },
     "metadata": {},
     "output_type": "display_data"
    }
   ],
   "source": [
    "plt.figure(figsize=(10, 6))\n",
    "sns.boxplot(x='Pclass', y='Age', data=trainset_copy)\n",
    "plt.title('Age Distribution by Class')\n",
    "plt.show()"
   ]
  },
  {
   "cell_type": "markdown",
   "id": "4877c5e2-f8c4-4f63-a59b-7168ff8772af",
   "metadata": {},
   "source": [
    "### Age Distribution by Survival:\n",
    "You can see the difference among the 30 years olds."
   ]
  },
  {
   "cell_type": "code",
   "execution_count": 7,
   "id": "1a4e296d-2a41-4868-8ade-7c7ac2659ac3",
   "metadata": {},
   "outputs": [
    {
     "data": {
      "image/png": "[encoded data removed]",
      "text/plain": [
       "<Figure size 1000x600 with 1 Axes>"
      ]
     },
     "metadata": {},
     "output_type": "display_data"
    }
   ],
   "source": [
    "plt.figure(figsize=(10, 6))\n",
    "sns.histplot(trainset[trainset['Survived'] == 1]['Age'].dropna(), bins=30, kde=True, color='green', label='Survived')\n",
    "sns.histplot(trainset[trainset['Survived'] == 0]['Age'].dropna(), bins=30, kde=True, color='red', label='Did Not Survive')\n",
    "plt.title('Age Distribution by Survival')\n",
    "plt.legend()\n",
    "plt.show()"
   ]
  },
  {
   "cell_type": "markdown",
   "id": "f9c5c199-8ab3-4ea6-903d-16183d1a8ddb",
   "metadata": {},
   "source": [
    "### Correlation Matrix of all the categories:"
   ]
  },
  {
   "cell_type": "code",
   "execution_count": 8,
   "id": "5c5c9d0f-3958-41d9-9eef-70b85ba7e00c",
   "metadata": {},
   "outputs": [
    {
     "data": {
      "image/png": "[encoded data removed]",
      "text/plain": [
       "<Figure size 1000x600 with 2 Axes>"
      ]
     },
     "metadata": {},
     "output_type": "display_data"
    }
   ],
   "source": [
    "plt.figure(figsize=(10,6))\n",
    "sns.heatmap(trainset.corr(), annot=True, cmap='coolwarm', fmt='.2f')\n",
    "plt.title('Correlation Matrix')\n",
    "plt.show()"
   ]
  },
  {
   "cell_type": "markdown",
   "id": "fb36672a",
   "metadata": {},
   "source": [
    "## Part 3 - Experiments\n",
    "You could add as many code cells as needed"
   ]
  },
  {
   "cell_type": "code",
   "execution_count": 9,
   "id": "b7098585",
   "metadata": {},
   "outputs": [],
   "source": [
    "from sklearn.model_selection import GridSearchCV, cross_val_score\n",
    "from sklearn.preprocessing import StandardScaler, OneHotEncoder\n",
    "from sklearn.compose import ColumnTransformer\n",
    "from sklearn.pipeline import Pipeline\n",
    "from sklearn.impute import SimpleImputer\n",
    "from sklearn.linear_model import LogisticRegression\n",
    "from sklearn.ensemble import RandomForestClassifier\n",
    "from sklearn.metrics import f1_score\n",
    "from sklearn.feature_selection import SelectKBest, VarianceThreshold\n",
    "from sklearn.neighbors import KNeighborsClassifier as KNN"
   ]
  },
  {
   "cell_type": "markdown",
   "id": "19beec4c-0042-4caf-8cb8-d98f50f95e78",
   "metadata": {},
   "source": [
    "### Taking care of the missing values:\n",
    "- In the numeric categories (age and fare) used mean.\n",
    "- In the categorical categories (class, age, and embarked) used the onehot encoder to find the most frequent.\n",
    "- The info of the DataFrame show 0 nulls"
   ]
  },
  {
   "cell_type": "code",
   "execution_count": 10,
   "id": "c35ffd67-a9b1-4c81-b79b-7e58e7c4fbd1",
   "metadata": {},
   "outputs": [
    {
     "name": "stdout",
     "output_type": "stream",
     "text": [
      "<class 'pandas.core.frame.DataFrame'>\n",
      "RangeIndex: 712 entries, 0 to 711\n",
      "Data columns (total 8 columns):\n",
      " #   Column    Non-Null Count  Dtype  \n",
      "---  ------    --------------  -----  \n",
      " 0   Pclass    712 non-null    int64  \n",
      " 1   Sex       712 non-null    int64  \n",
      " 2   Age       712 non-null    float64\n",
      " 3   SibSp     712 non-null    int64  \n",
      " 4   Parch     712 non-null    int64  \n",
      " 5   Fare      712 non-null    float64\n",
      " 6   Embarked  712 non-null    int64  \n",
      " 7   Survived  712 non-null    int64  \n",
      "dtypes: float64(2), int64(6)\n",
      "memory usage: 44.6 KB\n"
     ]
    }
   ],
   "source": [
    "numeric_features = ['Age', 'Fare']\n",
    "numeric_transformer = Pipeline(steps=[\n",
    "    ('imputer', SimpleImputer(strategy='mean')),\n",
    "    ('scaler', StandardScaler())])\n",
    "categorical_features = ['Pclass', 'Sex', 'Embarked']\n",
    "categorical_transformer = Pipeline(steps=[\n",
    "    ('imputer', SimpleImputer(strategy='most_frequent')),\n",
    "    ('onehot', OneHotEncoder(handle_unknown='ignore'))])\n",
    "preprocessor = ColumnTransformer(\n",
    "    transformers=[\n",
    "        ('num', numeric_transformer, numeric_features),\n",
    "        ('cat', categorical_transformer, categorical_features)])\n",
    "trainset.info()"
   ]
  },
  {
   "cell_type": "markdown",
   "id": "f718aa6f-b015-444d-8654-1df5c1a8920b",
   "metadata": {},
   "source": [
    "### Logistic Regression:\n",
    "- Created a pipeline that includes a preprocessing step.\n",
    "- Defined a grid of hyperparameters to test.\n",
    "- Chose 0.01, 0.1, 1, and 10 as classifier c.\n",
    "- Set up a grid search with 5-fold cross-validation to find the best hyperparameters.\n",
    "- Fitted the grid search to my training data, excluding the target column Survived.\n",
    "- Created a DataFrame to store the cross-validation results, including the tested parameters and their corresponding mean test scores.\n",
    "- The DataFrame is sorted by the highest mean test score."
   ]
  },
  {
   "cell_type": "code",
   "execution_count": 11,
   "id": "9b1007d0-c1fb-49ed-abcc-a1df4797422d",
   "metadata": {},
   "outputs": [
    {
     "data": {
      "text/html": [
       "<div>\n",
       "<style scoped>\n",
       "    .dataframe tbody tr th:only-of-type {\n",
       "        vertical-align: middle;\n",
       "    }\n",
       "\n",
       "    .dataframe tbody tr th {\n",
       "        vertical-align: top;\n",
       "    }\n",
       "\n",
       "    .dataframe thead th {\n",
       "        text-align: right;\n",
       "    }\n",
       "</style>\n",
       "<table border=\"1\" class=\"dataframe\">\n",
       "  <thead>\n",
       "    <tr style=\"text-align: right;\">\n",
       "      <th></th>\n",
       "      <th>Parameters</th>\n",
       "      <th>Mean Test Score</th>\n",
       "      <th>Model</th>\n",
       "    </tr>\n",
       "  </thead>\n",
       "  <tbody>\n",
       "    <tr>\n",
       "      <th>2</th>\n",
       "      <td>{'classifier__C': 1}</td>\n",
       "      <td>0.739707</td>\n",
       "      <td>Logistic Regression</td>\n",
       "    </tr>\n",
       "    <tr>\n",
       "      <th>3</th>\n",
       "      <td>{'classifier__C': 10}</td>\n",
       "      <td>0.738519</td>\n",
       "      <td>Logistic Regression</td>\n",
       "    </tr>\n",
       "    <tr>\n",
       "      <th>1</th>\n",
       "      <td>{'classifier__C': 0.1}</td>\n",
       "      <td>0.737440</td>\n",
       "      <td>Logistic Regression</td>\n",
       "    </tr>\n",
       "    <tr>\n",
       "      <th>0</th>\n",
       "      <td>{'classifier__C': 0.01}</td>\n",
       "      <td>0.630911</td>\n",
       "      <td>Logistic Regression</td>\n",
       "    </tr>\n",
       "  </tbody>\n",
       "</table>\n",
       "</div>"
      ],
      "text/plain": [
       "                Parameters  Mean Test Score                Model\n",
       "2     {'classifier__C': 1}         0.739707  Logistic Regression\n",
       "3    {'classifier__C': 10}         0.738519  Logistic Regression\n",
       "1   {'classifier__C': 0.1}         0.737440  Logistic Regression\n",
       "0  {'classifier__C': 0.01}         0.630911  Logistic Regression"
      ]
     },
     "execution_count": 11,
     "metadata": {},
     "output_type": "execute_result"
    }
   ],
   "source": [
    "logistic_regression=Pipeline(steps=[('preprocessor', preprocessor),('classifier', LogisticRegression())])\n",
    "param_grid_lr = {'classifier__C': [0.01,0.1, 1, 10]}\n",
    "grid_lr = GridSearchCV(logistic_regression, param_grid_lr, cv=5, scoring='f1')\n",
    "grid_lr.fit(trainset.drop(columns='Survived'), trainset['Survived'])\n",
    "cv_results_lr = pd.DataFrame(grid_lr.cv_results_)[['params', 'mean_test_score']]\n",
    "cv_results_lr['Model'] = 'Logistic Regression'\n",
    "cv_results_lr.columns = ['Parameters', 'Mean Test Score','Model']\n",
    "cv_results_lr.sort_values(by='Mean Test Score', ascending=False)"
   ]
  },
  {
   "cell_type": "markdown",
   "id": "0f39889b-614f-47d2-b8ae-41badc075846",
   "metadata": {},
   "source": [
    "### KNN:\n",
    "- Created a pipeline that includes a preprocessing step.\n",
    "- Defined a grid of hyperparameters to test.\n",
    "- Chose 3, 5, 7, and 9 as the n.\n",
    "- Chose Manhattan, Euclidean, and Chebyshev as the KNN metrics.\n",
    "- Set up a grid search with 5-fold cross-validation to find the best hyperparameters.\n",
    "- Fitted the grid search to my training data, excluding the target column Survived.\n",
    "- Created a DataFrame to store the cross-validation results, including the tested parameters and their corresponding mean test scores.\n",
    "- The DataFrame is sorted by the highest mean test score."
   ]
  },
  {
   "cell_type": "code",
   "execution_count": 12,
   "id": "f59efa4f-9d91-4be8-b06e-bd436d7d98c0",
   "metadata": {},
   "outputs": [
    {
     "data": {
      "text/html": [
       "<div>\n",
       "<style scoped>\n",
       "    .dataframe tbody tr th:only-of-type {\n",
       "        vertical-align: middle;\n",
       "    }\n",
       "\n",
       "    .dataframe tbody tr th {\n",
       "        vertical-align: top;\n",
       "    }\n",
       "\n",
       "    .dataframe thead th {\n",
       "        text-align: right;\n",
       "    }\n",
       "</style>\n",
       "<table border=\"1\" class=\"dataframe\">\n",
       "  <thead>\n",
       "    <tr style=\"text-align: right;\">\n",
       "      <th></th>\n",
       "      <th>Parameters</th>\n",
       "      <th>Mean Test Score</th>\n",
       "      <th>Model</th>\n",
       "    </tr>\n",
       "  </thead>\n",
       "  <tbody>\n",
       "    <tr>\n",
       "      <th>4</th>\n",
       "      <td>{'KBest__k': 'all', 'KNN__metric': 'euclidean', 'KNN__n_neighbors': 3}</td>\n",
       "      <td>0.741661</td>\n",
       "      <td>KNN</td>\n",
       "    </tr>\n",
       "    <tr>\n",
       "      <th>11</th>\n",
       "      <td>{'KBest__k': 'all', 'KNN__metric': 'chebyshev', 'KNN__n_neighbors': 9}</td>\n",
       "      <td>0.735681</td>\n",
       "      <td>KNN</td>\n",
       "    </tr>\n",
       "    <tr>\n",
       "      <th>3</th>\n",
       "      <td>{'KBest__k': 'all', 'KNN__metric': 'manhattan', 'KNN__n_neighbors': 9}</td>\n",
       "      <td>0.729797</td>\n",
       "      <td>KNN</td>\n",
       "    </tr>\n",
       "    <tr>\n",
       "      <th>6</th>\n",
       "      <td>{'KBest__k': 'all', 'KNN__metric': 'euclidean', 'KNN__n_neighbors': 7}</td>\n",
       "      <td>0.729367</td>\n",
       "      <td>KNN</td>\n",
       "    </tr>\n",
       "    <tr>\n",
       "      <th>8</th>\n",
       "      <td>{'KBest__k': 'all', 'KNN__metric': 'chebyshev', 'KNN__n_neighbors': 3}</td>\n",
       "      <td>0.728180</td>\n",
       "      <td>KNN</td>\n",
       "    </tr>\n",
       "    <tr>\n",
       "      <th>2</th>\n",
       "      <td>{'KBest__k': 'all', 'KNN__metric': 'manhattan', 'KNN__n_neighbors': 7}</td>\n",
       "      <td>0.727690</td>\n",
       "      <td>KNN</td>\n",
       "    </tr>\n",
       "    <tr>\n",
       "      <th>0</th>\n",
       "      <td>{'KBest__k': 'all', 'KNN__metric': 'manhattan', 'KNN__n_neighbors': 3}</td>\n",
       "      <td>0.725193</td>\n",
       "      <td>KNN</td>\n",
       "    </tr>\n",
       "    <tr>\n",
       "      <th>10</th>\n",
       "      <td>{'KBest__k': 'all', 'KNN__metric': 'chebyshev', 'KNN__n_neighbors': 7}</td>\n",
       "      <td>0.722555</td>\n",
       "      <td>KNN</td>\n",
       "    </tr>\n",
       "    <tr>\n",
       "      <th>1</th>\n",
       "      <td>{'KBest__k': 'all', 'KNN__metric': 'manhattan', 'KNN__n_neighbors': 5}</td>\n",
       "      <td>0.722184</td>\n",
       "      <td>KNN</td>\n",
       "    </tr>\n",
       "    <tr>\n",
       "      <th>7</th>\n",
       "      <td>{'KBest__k': 'all', 'KNN__metric': 'euclidean', 'KNN__n_neighbors': 9}</td>\n",
       "      <td>0.721038</td>\n",
       "      <td>KNN</td>\n",
       "    </tr>\n",
       "    <tr>\n",
       "      <th>9</th>\n",
       "      <td>{'KBest__k': 'all', 'KNN__metric': 'chebyshev', 'KNN__n_neighbors': 5}</td>\n",
       "      <td>0.709333</td>\n",
       "      <td>KNN</td>\n",
       "    </tr>\n",
       "    <tr>\n",
       "      <th>5</th>\n",
       "      <td>{'KBest__k': 'all', 'KNN__metric': 'euclidean', 'KNN__n_neighbors': 5}</td>\n",
       "      <td>0.708835</td>\n",
       "      <td>KNN</td>\n",
       "    </tr>\n",
       "  </tbody>\n",
       "</table>\n",
       "</div>"
      ],
      "text/plain": [
       "                                                                Parameters  \\\n",
       "4   {'KBest__k': 'all', 'KNN__metric': 'euclidean', 'KNN__n_neighbors': 3}   \n",
       "11  {'KBest__k': 'all', 'KNN__metric': 'chebyshev', 'KNN__n_neighbors': 9}   \n",
       "3   {'KBest__k': 'all', 'KNN__metric': 'manhattan', 'KNN__n_neighbors': 9}   \n",
       "6   {'KBest__k': 'all', 'KNN__metric': 'euclidean', 'KNN__n_neighbors': 7}   \n",
       "8   {'KBest__k': 'all', 'KNN__metric': 'chebyshev', 'KNN__n_neighbors': 3}   \n",
       "2   {'KBest__k': 'all', 'KNN__metric': 'manhattan', 'KNN__n_neighbors': 7}   \n",
       "0   {'KBest__k': 'all', 'KNN__metric': 'manhattan', 'KNN__n_neighbors': 3}   \n",
       "10  {'KBest__k': 'all', 'KNN__metric': 'chebyshev', 'KNN__n_neighbors': 7}   \n",
       "1   {'KBest__k': 'all', 'KNN__metric': 'manhattan', 'KNN__n_neighbors': 5}   \n",
       "7   {'KBest__k': 'all', 'KNN__metric': 'euclidean', 'KNN__n_neighbors': 9}   \n",
       "9   {'KBest__k': 'all', 'KNN__metric': 'chebyshev', 'KNN__n_neighbors': 5}   \n",
       "5   {'KBest__k': 'all', 'KNN__metric': 'euclidean', 'KNN__n_neighbors': 5}   \n",
       "\n",
       "    Mean Test Score Model  \n",
       "4          0.741661   KNN  \n",
       "11         0.735681   KNN  \n",
       "3          0.729797   KNN  \n",
       "6          0.729367   KNN  \n",
       "8          0.728180   KNN  \n",
       "2          0.727690   KNN  \n",
       "0          0.725193   KNN  \n",
       "10         0.722555   KNN  \n",
       "1          0.722184   KNN  \n",
       "7          0.721038   KNN  \n",
       "9          0.709333   KNN  \n",
       "5          0.708835   KNN  "
      ]
     },
     "execution_count": 12,
     "metadata": {},
     "output_type": "execute_result"
    }
   ],
   "source": [
    "knn = Pipeline([('varianceThreshold', VarianceThreshold()),('KBest', SelectKBest()),('StandardScaler', StandardScaler()),('KNN', KNN())])\n",
    "param_grid_knn = {\n",
    "    'KNN__n_neighbors':   [3,5,7,9],\n",
    "    'KBest__k': ['all'],\n",
    "    'KNN__metric' : ['manhattan', 'euclidean','chebyshev']\n",
    "}\n",
    "grid_knn = GridSearchCV(knn, param_grid_knn, cv=5, scoring='f1')\n",
    "grid_knn.fit(trainset.drop(columns='Survived'), trainset['Survived'])\n",
    "cv_results_knn = pd.DataFrame(grid_knn.cv_results_)[['params', 'mean_test_score']]\n",
    "cv_results_knn['Model'] = 'KNN'\n",
    "pd.set_option('display.max_colwidth', None)\n",
    "cv_results_knn.columns = ['Parameters', 'Mean Test Score','Model']\n",
    "cv_results_knn.sort_values(by='Mean Test Score', ascending=False)"
   ]
  },
  {
   "cell_type": "markdown",
   "id": "ed57af6c-ee3a-4bc4-a664-103674572daf",
   "metadata": {},
   "source": [
    "### Random Forest:\n",
    "- Created a pipeline that includes a preprocessing step.\n",
    "- Defined a grid of hyperparameters to test.\n",
    "- Chose 10, 50, 100 and 200 as the classifier n estimators.\n",
    "- Set up a grid search with 5-fold cross-validation to find the best hyperparameters.\n",
    "- Fitted the grid search to my training data, excluding the target column Survived.\n",
    "- Created a DataFrame to store the cross-validation results, including the tested parameters and their corresponding mean test scores.\n",
    "- The DataFrame is sorted by the highest mean test score."
   ]
  },
  {
   "cell_type": "code",
   "execution_count": 13,
   "id": "107fe4d3-9af3-4af9-b3a5-b77489065370",
   "metadata": {},
   "outputs": [
    {
     "data": {
      "text/html": [
       "<div>\n",
       "<style scoped>\n",
       "    .dataframe tbody tr th:only-of-type {\n",
       "        vertical-align: middle;\n",
       "    }\n",
       "\n",
       "    .dataframe tbody tr th {\n",
       "        vertical-align: top;\n",
       "    }\n",
       "\n",
       "    .dataframe thead th {\n",
       "        text-align: right;\n",
       "    }\n",
       "</style>\n",
       "<table border=\"1\" class=\"dataframe\">\n",
       "  <thead>\n",
       "    <tr style=\"text-align: right;\">\n",
       "      <th></th>\n",
       "      <th>Parameters</th>\n",
       "      <th>Mean Test Score</th>\n",
       "      <th>Model</th>\n",
       "    </tr>\n",
       "  </thead>\n",
       "  <tbody>\n",
       "    <tr>\n",
       "      <th>1</th>\n",
       "      <td>{'classifier__n_estimators': 50}</td>\n",
       "      <td>0.753641</td>\n",
       "      <td>Random Forest</td>\n",
       "    </tr>\n",
       "    <tr>\n",
       "      <th>2</th>\n",
       "      <td>{'classifier__n_estimators': 100}</td>\n",
       "      <td>0.745682</td>\n",
       "      <td>Random Forest</td>\n",
       "    </tr>\n",
       "    <tr>\n",
       "      <th>3</th>\n",
       "      <td>{'classifier__n_estimators': 200}</td>\n",
       "      <td>0.736033</td>\n",
       "      <td>Random Forest</td>\n",
       "    </tr>\n",
       "    <tr>\n",
       "      <th>0</th>\n",
       "      <td>{'classifier__n_estimators': 10}</td>\n",
       "      <td>0.710249</td>\n",
       "      <td>Random Forest</td>\n",
       "    </tr>\n",
       "  </tbody>\n",
       "</table>\n",
       "</div>"
      ],
      "text/plain": [
       "                          Parameters  Mean Test Score          Model\n",
       "1   {'classifier__n_estimators': 50}         0.753641  Random Forest\n",
       "2  {'classifier__n_estimators': 100}         0.745682  Random Forest\n",
       "3  {'classifier__n_estimators': 200}         0.736033  Random Forest\n",
       "0   {'classifier__n_estimators': 10}         0.710249  Random Forest"
      ]
     },
     "execution_count": 13,
     "metadata": {},
     "output_type": "execute_result"
    }
   ],
   "source": [
    "random_forest=Pipeline(steps=[('preprocessor', preprocessor),('classifier', RandomForestClassifier())])\n",
    "param_grid_rf = {'classifier__n_estimators': [10,50, 100, 200]}\n",
    "grid_rf = GridSearchCV(random_forest, param_grid_rf, cv=5, scoring='f1')\n",
    "grid_rf.fit(trainset.drop(columns='Survived'), trainset['Survived'])\n",
    "cv_results_rf = pd.DataFrame(grid_rf.cv_results_)[['params', 'mean_test_score']]\n",
    "cv_results_rf['Model'] = 'Random Forest'\n",
    "cv_results_rf.columns = ['Parameters', 'Mean Test Score','Model']\n",
    "cv_results_rf.sort_values(by='Mean Test Score', ascending=False)"
   ]
  },
  {
   "cell_type": "markdown",
   "id": "371f12c5-819d-4798-8c23-7144b1f6d597",
   "metadata": {},
   "source": [
    "### The best results for each model:"
   ]
  },
  {
   "cell_type": "code",
   "execution_count": 14,
   "id": "8c1dfc33-8bdc-488e-9140-7344eb812d62",
   "metadata": {},
   "outputs": [
    {
     "name": "stdout",
     "output_type": "stream",
     "text": [
      "Best Logistic Regression: {'classifier__C': 1} F1-score: 0.7397072616347421\n",
      "Best KNN: {'KBest__k': 'all', 'KNN__metric': 'euclidean', 'KNN__n_neighbors': 3} F1-score: 0.741661262260402\n",
      "Best Random Forest: {'classifier__n_estimators': 50} F1-score: 0.7536407766778918\n"
     ]
    }
   ],
   "source": [
    "best_params_lr = grid_lr.best_params_\n",
    "best_score_lr = grid_lr.best_score_\n",
    "print(\"Best Logistic Regression:\" ,best_params_lr, \"F1-score:\",best_score_lr)\n",
    "\n",
    "best_params_knn = grid_knn.best_params_\n",
    "best_score_knn = grid_knn.best_score_\n",
    "print(\"Best KNN:\",best_params_knn, \"F1-score:\", best_score_knn)\n",
    "\n",
    "best_params_rf = grid_rf.best_params_\n",
    "best_score_rf = grid_rf.best_score_\n",
    "print(\"Best Random Forest:\",best_params_rf, \"F1-score:\", best_score_rf)"
   ]
  },
  {
   "cell_type": "markdown",
   "id": "b31b7d14-588e-4647-8fc2-fada6576e4eb",
   "metadata": {},
   "source": [
    "### Results summary:\n",
    "- Combined the cross-validation results from the Logistic Regression, KNN, and Random Forest models into a single DataFrame.\n",
    "- The DataFrame is sorted by the highest mean test score."
   ]
  },
  {
   "cell_type": "code",
   "execution_count": 15,
   "id": "05fe3ad2-a543-4bcc-9955-dea4f6da6e61",
   "metadata": {},
   "outputs": [
    {
     "name": "stdout",
     "output_type": "stream",
     "text": [
      "Summary of Cross-Validation Results:\n"
     ]
    },
    {
     "data": {
      "text/html": [
       "<div>\n",
       "<style scoped>\n",
       "    .dataframe tbody tr th:only-of-type {\n",
       "        vertical-align: middle;\n",
       "    }\n",
       "\n",
       "    .dataframe tbody tr th {\n",
       "        vertical-align: top;\n",
       "    }\n",
       "\n",
       "    .dataframe thead th {\n",
       "        text-align: right;\n",
       "    }\n",
       "</style>\n",
       "<table border=\"1\" class=\"dataframe\">\n",
       "  <thead>\n",
       "    <tr style=\"text-align: right;\">\n",
       "      <th></th>\n",
       "      <th>Parameters</th>\n",
       "      <th>Mean Test Score</th>\n",
       "      <th>Model</th>\n",
       "    </tr>\n",
       "  </thead>\n",
       "  <tbody>\n",
       "    <tr>\n",
       "      <th>5</th>\n",
       "      <td>{'classifier__n_estimators': 50}</td>\n",
       "      <td>0.753641</td>\n",
       "      <td>Random Forest</td>\n",
       "    </tr>\n",
       "    <tr>\n",
       "      <th>6</th>\n",
       "      <td>{'classifier__n_estimators': 100}</td>\n",
       "      <td>0.745682</td>\n",
       "      <td>Random Forest</td>\n",
       "    </tr>\n",
       "    <tr>\n",
       "      <th>12</th>\n",
       "      <td>{'KBest__k': 'all', 'KNN__metric': 'euclidean', 'KNN__n_neighbors': 3}</td>\n",
       "      <td>0.741661</td>\n",
       "      <td>KNN</td>\n",
       "    </tr>\n",
       "    <tr>\n",
       "      <th>2</th>\n",
       "      <td>{'classifier__C': 1}</td>\n",
       "      <td>0.739707</td>\n",
       "      <td>Logistic Regression</td>\n",
       "    </tr>\n",
       "    <tr>\n",
       "      <th>3</th>\n",
       "      <td>{'classifier__C': 10}</td>\n",
       "      <td>0.738519</td>\n",
       "      <td>Logistic Regression</td>\n",
       "    </tr>\n",
       "    <tr>\n",
       "      <th>1</th>\n",
       "      <td>{'classifier__C': 0.1}</td>\n",
       "      <td>0.737440</td>\n",
       "      <td>Logistic Regression</td>\n",
       "    </tr>\n",
       "    <tr>\n",
       "      <th>7</th>\n",
       "      <td>{'classifier__n_estimators': 200}</td>\n",
       "      <td>0.736033</td>\n",
       "      <td>Random Forest</td>\n",
       "    </tr>\n",
       "    <tr>\n",
       "      <th>19</th>\n",
       "      <td>{'KBest__k': 'all', 'KNN__metric': 'chebyshev', 'KNN__n_neighbors': 9}</td>\n",
       "      <td>0.735681</td>\n",
       "      <td>KNN</td>\n",
       "    </tr>\n",
       "    <tr>\n",
       "      <th>11</th>\n",
       "      <td>{'KBest__k': 'all', 'KNN__metric': 'manhattan', 'KNN__n_neighbors': 9}</td>\n",
       "      <td>0.729797</td>\n",
       "      <td>KNN</td>\n",
       "    </tr>\n",
       "    <tr>\n",
       "      <th>14</th>\n",
       "      <td>{'KBest__k': 'all', 'KNN__metric': 'euclidean', 'KNN__n_neighbors': 7}</td>\n",
       "      <td>0.729367</td>\n",
       "      <td>KNN</td>\n",
       "    </tr>\n",
       "    <tr>\n",
       "      <th>16</th>\n",
       "      <td>{'KBest__k': 'all', 'KNN__metric': 'chebyshev', 'KNN__n_neighbors': 3}</td>\n",
       "      <td>0.728180</td>\n",
       "      <td>KNN</td>\n",
       "    </tr>\n",
       "    <tr>\n",
       "      <th>10</th>\n",
       "      <td>{'KBest__k': 'all', 'KNN__metric': 'manhattan', 'KNN__n_neighbors': 7}</td>\n",
       "      <td>0.727690</td>\n",
       "      <td>KNN</td>\n",
       "    </tr>\n",
       "    <tr>\n",
       "      <th>8</th>\n",
       "      <td>{'KBest__k': 'all', 'KNN__metric': 'manhattan', 'KNN__n_neighbors': 3}</td>\n",
       "      <td>0.725193</td>\n",
       "      <td>KNN</td>\n",
       "    </tr>\n",
       "    <tr>\n",
       "      <th>18</th>\n",
       "      <td>{'KBest__k': 'all', 'KNN__metric': 'chebyshev', 'KNN__n_neighbors': 7}</td>\n",
       "      <td>0.722555</td>\n",
       "      <td>KNN</td>\n",
       "    </tr>\n",
       "    <tr>\n",
       "      <th>9</th>\n",
       "      <td>{'KBest__k': 'all', 'KNN__metric': 'manhattan', 'KNN__n_neighbors': 5}</td>\n",
       "      <td>0.722184</td>\n",
       "      <td>KNN</td>\n",
       "    </tr>\n",
       "    <tr>\n",
       "      <th>15</th>\n",
       "      <td>{'KBest__k': 'all', 'KNN__metric': 'euclidean', 'KNN__n_neighbors': 9}</td>\n",
       "      <td>0.721038</td>\n",
       "      <td>KNN</td>\n",
       "    </tr>\n",
       "    <tr>\n",
       "      <th>4</th>\n",
       "      <td>{'classifier__n_estimators': 10}</td>\n",
       "      <td>0.710249</td>\n",
       "      <td>Random Forest</td>\n",
       "    </tr>\n",
       "    <tr>\n",
       "      <th>17</th>\n",
       "      <td>{'KBest__k': 'all', 'KNN__metric': 'chebyshev', 'KNN__n_neighbors': 5}</td>\n",
       "      <td>0.709333</td>\n",
       "      <td>KNN</td>\n",
       "    </tr>\n",
       "    <tr>\n",
       "      <th>13</th>\n",
       "      <td>{'KBest__k': 'all', 'KNN__metric': 'euclidean', 'KNN__n_neighbors': 5}</td>\n",
       "      <td>0.708835</td>\n",
       "      <td>KNN</td>\n",
       "    </tr>\n",
       "    <tr>\n",
       "      <th>0</th>\n",
       "      <td>{'classifier__C': 0.01}</td>\n",
       "      <td>0.630911</td>\n",
       "      <td>Logistic Regression</td>\n",
       "    </tr>\n",
       "  </tbody>\n",
       "</table>\n",
       "</div>"
      ],
      "text/plain": [
       "                                                                Parameters  \\\n",
       "5                                         {'classifier__n_estimators': 50}   \n",
       "6                                        {'classifier__n_estimators': 100}   \n",
       "12  {'KBest__k': 'all', 'KNN__metric': 'euclidean', 'KNN__n_neighbors': 3}   \n",
       "2                                                     {'classifier__C': 1}   \n",
       "3                                                    {'classifier__C': 10}   \n",
       "1                                                   {'classifier__C': 0.1}   \n",
       "7                                        {'classifier__n_estimators': 200}   \n",
       "19  {'KBest__k': 'all', 'KNN__metric': 'chebyshev', 'KNN__n_neighbors': 9}   \n",
       "11  {'KBest__k': 'all', 'KNN__metric': 'manhattan', 'KNN__n_neighbors': 9}   \n",
       "14  {'KBest__k': 'all', 'KNN__metric': 'euclidean', 'KNN__n_neighbors': 7}   \n",
       "16  {'KBest__k': 'all', 'KNN__metric': 'chebyshev', 'KNN__n_neighbors': 3}   \n",
       "10  {'KBest__k': 'all', 'KNN__metric': 'manhattan', 'KNN__n_neighbors': 7}   \n",
       "8   {'KBest__k': 'all', 'KNN__metric': 'manhattan', 'KNN__n_neighbors': 3}   \n",
       "18  {'KBest__k': 'all', 'KNN__metric': 'chebyshev', 'KNN__n_neighbors': 7}   \n",
       "9   {'KBest__k': 'all', 'KNN__metric': 'manhattan', 'KNN__n_neighbors': 5}   \n",
       "15  {'KBest__k': 'all', 'KNN__metric': 'euclidean', 'KNN__n_neighbors': 9}   \n",
       "4                                         {'classifier__n_estimators': 10}   \n",
       "17  {'KBest__k': 'all', 'KNN__metric': 'chebyshev', 'KNN__n_neighbors': 5}   \n",
       "13  {'KBest__k': 'all', 'KNN__metric': 'euclidean', 'KNN__n_neighbors': 5}   \n",
       "0                                                  {'classifier__C': 0.01}   \n",
       "\n",
       "    Mean Test Score                Model  \n",
       "5          0.753641        Random Forest  \n",
       "6          0.745682        Random Forest  \n",
       "12         0.741661                  KNN  \n",
       "2          0.739707  Logistic Regression  \n",
       "3          0.738519  Logistic Regression  \n",
       "1          0.737440  Logistic Regression  \n",
       "7          0.736033        Random Forest  \n",
       "19         0.735681                  KNN  \n",
       "11         0.729797                  KNN  \n",
       "14         0.729367                  KNN  \n",
       "16         0.728180                  KNN  \n",
       "10         0.727690                  KNN  \n",
       "8          0.725193                  KNN  \n",
       "18         0.722555                  KNN  \n",
       "9          0.722184                  KNN  \n",
       "15         0.721038                  KNN  \n",
       "4          0.710249        Random Forest  \n",
       "17         0.709333                  KNN  \n",
       "13         0.708835                  KNN  \n",
       "0          0.630911  Logistic Regression  "
      ]
     },
     "execution_count": 15,
     "metadata": {},
     "output_type": "execute_result"
    }
   ],
   "source": [
    "summary_results = pd.concat([cv_results_lr, cv_results_rf, cv_results_knn], ignore_index=True)\n",
    "summary_results.columns = ['Parameters', 'Mean Test Score','Model']\n",
    "print(\"Summary of Cross-Validation Results:\")\n",
    "summary_results.sort_values(by='Mean Test Score', ascending=False)"
   ]
  },
  {
   "cell_type": "markdown",
   "id": "67d97f11",
   "metadata": {},
   "source": [
    "## Part 4 - Training \n",
    "Use the best combination of feature engineering, model (algorithm and hyperparameters) from the experiment part (part 3)"
   ]
  },
  {
   "cell_type": "markdown",
   "id": "00c9bf1c-c720-43f8-9f52-c9bd33610f49",
   "metadata": {},
   "source": [
    "- Retrained the best model (Random Forest) on the train set.\n",
    "- Save the Predictions on train data.\n",
    "- Calculated F1-Score on train data."
   ]
  },
  {
   "cell_type": "code",
   "execution_count": 16,
   "id": "93713ead",
   "metadata": {},
   "outputs": [
    {
     "name": "stdout",
     "output_type": "stream",
     "text": [
      "F1 Score on train data (Best Model) 0.9733570159857903\n"
     ]
    }
   ],
   "source": [
    "best_model =grid_rf.best_estimator_ \n",
    "best_model.fit(trainset.drop(columns='Survived'), trainset['Survived'])\n",
    "train_predictions = best_model.predict(trainset.drop(columns='Survived'))\n",
    "f1_train = f1_score(trainset['Survived'], train_predictions)\n",
    "print(\"F1 Score on train data (Best Model)\", f1_train)"
   ]
  },
  {
   "cell_type": "markdown",
   "id": "259ab902",
   "metadata": {},
   "source": [
    "## Part 5 - Apply on test and show model performance estimation"
   ]
  },
  {
   "cell_type": "markdown",
   "id": "16f275bb-6d61-494f-b663-df2c246b12ef",
   "metadata": {},
   "source": [
    "- Used Random Forest to do the Prediction on the test set.\n",
    "- Added predictions to the test DataFrame.\n",
    "- Showed the first 5 rows of the test DataFrame with predictions."
   ]
  },
  {
   "cell_type": "code",
   "execution_count": 17,
   "id": "d9971aa5",
   "metadata": {},
   "outputs": [
    {
     "data": {
      "text/html": [
       "<div>\n",
       "<style scoped>\n",
       "    .dataframe tbody tr th:only-of-type {\n",
       "        vertical-align: middle;\n",
       "    }\n",
       "\n",
       "    .dataframe tbody tr th {\n",
       "        vertical-align: top;\n",
       "    }\n",
       "\n",
       "    .dataframe thead th {\n",
       "        text-align: right;\n",
       "    }\n",
       "</style>\n",
       "<table border=\"1\" class=\"dataframe\">\n",
       "  <thead>\n",
       "    <tr style=\"text-align: right;\">\n",
       "      <th></th>\n",
       "      <th>Pclass</th>\n",
       "      <th>Sex</th>\n",
       "      <th>Age</th>\n",
       "      <th>SibSp</th>\n",
       "      <th>Parch</th>\n",
       "      <th>Fare</th>\n",
       "      <th>Embarked</th>\n",
       "      <th>Survived</th>\n",
       "      <th>Survived_Predicted</th>\n",
       "    </tr>\n",
       "  </thead>\n",
       "  <tbody>\n",
       "    <tr>\n",
       "      <th>0</th>\n",
       "      <td>3</td>\n",
       "      <td>1</td>\n",
       "      <td>35.000000</td>\n",
       "      <td>0</td>\n",
       "      <td>0</td>\n",
       "      <td>7.0500</td>\n",
       "      <td>0</td>\n",
       "      <td>0</td>\n",
       "      <td>0</td>\n",
       "    </tr>\n",
       "    <tr>\n",
       "      <th>1</th>\n",
       "      <td>3</td>\n",
       "      <td>1</td>\n",
       "      <td>30.000000</td>\n",
       "      <td>0</td>\n",
       "      <td>0</td>\n",
       "      <td>7.2500</td>\n",
       "      <td>0</td>\n",
       "      <td>0</td>\n",
       "      <td>0</td>\n",
       "    </tr>\n",
       "    <tr>\n",
       "      <th>2</th>\n",
       "      <td>3</td>\n",
       "      <td>1</td>\n",
       "      <td>29.699118</td>\n",
       "      <td>0</td>\n",
       "      <td>0</td>\n",
       "      <td>14.5000</td>\n",
       "      <td>0</td>\n",
       "      <td>0</td>\n",
       "      <td>0</td>\n",
       "    </tr>\n",
       "    <tr>\n",
       "      <th>3</th>\n",
       "      <td>3</td>\n",
       "      <td>0</td>\n",
       "      <td>21.000000</td>\n",
       "      <td>0</td>\n",
       "      <td>0</td>\n",
       "      <td>7.7500</td>\n",
       "      <td>2</td>\n",
       "      <td>0</td>\n",
       "      <td>1</td>\n",
       "    </tr>\n",
       "    <tr>\n",
       "      <th>4</th>\n",
       "      <td>3</td>\n",
       "      <td>1</td>\n",
       "      <td>32.000000</td>\n",
       "      <td>0</td>\n",
       "      <td>0</td>\n",
       "      <td>56.4958</td>\n",
       "      <td>0</td>\n",
       "      <td>1</td>\n",
       "      <td>1</td>\n",
       "    </tr>\n",
       "  </tbody>\n",
       "</table>\n",
       "</div>"
      ],
      "text/plain": [
       "   Pclass  Sex        Age  SibSp  Parch     Fare  Embarked  Survived  \\\n",
       "0       3    1  35.000000      0      0   7.0500         0         0   \n",
       "1       3    1  30.000000      0      0   7.2500         0         0   \n",
       "2       3    1  29.699118      0      0  14.5000         0         0   \n",
       "3       3    0  21.000000      0      0   7.7500         2         0   \n",
       "4       3    1  32.000000      0      0  56.4958         0         1   \n",
       "\n",
       "   Survived_Predicted  \n",
       "0                   0  \n",
       "1                   0  \n",
       "2                   0  \n",
       "3                   1  \n",
       "4                   1  "
      ]
     },
     "execution_count": 17,
     "metadata": {},
     "output_type": "execute_result"
    }
   ],
   "source": [
    "test_predictions = best_model.predict(testset)\n",
    "testset['Survived_Predicted'] = test_predictions\n",
    "testset.head()"
   ]
  },
  {
   "cell_type": "code",
   "execution_count": 18,
   "id": "00d8aa96",
   "metadata": {},
   "outputs": [
    {
     "name": "stdout",
     "output_type": "stream",
     "text": [
      "First 5 predictions on the test set:  [0 0 0 1 1]\n"
     ]
    }
   ],
   "source": [
    "print(\"First 5 predictions on the test set: \",test_predictions[:5])"
   ]
  },
  {
   "cell_type": "markdown",
   "id": "57e8443d-7514-4c8f-aadb-59130f02d150",
   "metadata": {},
   "source": [
    "### Calculated the F1 score on the data set:"
   ]
  },
  {
   "cell_type": "code",
   "execution_count": 19,
   "id": "02181ed6-af22-466f-bd09-f6099295e2f5",
   "metadata": {},
   "outputs": [
    {
     "name": "stdout",
     "output_type": "stream",
     "text": [
      "F1 Score on test data: 0.7833333333333333\n"
     ]
    }
   ],
   "source": [
    "f1_test = f1_score(testset['Survived'], test_predictions)\n",
    "print(\"F1 Score on test data:\", f1_test)"
   ]
  }
 ],
 "metadata": {
  "kernelspec": {
   "display_name": "Python 3 (ipykernel)",
   "language": "python",
   "name": "python3"
  },
  "language_info": {
   "codemirror_mode": {
    "name": "ipython",
    "version": 3
   },
   "file_extension": ".py",
   "mimetype": "text/x-python",
   "name": "python",
   "nbconvert_exporter": "python",
   "pygments_lexer": "ipython3",
   "version": "3.11.7"
  }
 },
 "nbformat": 4,
 "nbformat_minor": 5
}
